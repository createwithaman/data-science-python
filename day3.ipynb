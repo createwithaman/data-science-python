{
 "cells": [
  {
   "cell_type": "markdown",
   "id": "a1ac5507-25f1-44a4-9f86-a47d5bedfe8d",
   "metadata": {},
   "source": [
    "# Logical oprators"
   ]
  },
  {
   "cell_type": "code",
   "execution_count": 20,
   "id": "5e573c98-880e-4b23-89e9-a350c11aaad3",
   "metadata": {},
   "outputs": [
    {
     "data": {
      "text/plain": [
       "False"
      ]
     },
     "execution_count": 20,
     "metadata": {},
     "output_type": "execute_result"
    }
   ],
   "source": [
    " not 1"
   ]
  },
  {
   "cell_type": "code",
   "execution_count": 21,
   "id": "8cbb4eb9-a82c-43d4-bdb7-30effb08a5c1",
   "metadata": {},
   "outputs": [
    {
     "data": {
      "text/plain": [
       "False"
      ]
     },
     "execution_count": 21,
     "metadata": {},
     "output_type": "execute_result"
    }
   ],
   "source": [
    "not -4\n"
   ]
  },
  {
   "cell_type": "code",
   "execution_count": 2,
   "id": "1a1a4f34-22a8-49b7-a00c-07b54f1a7413",
   "metadata": {},
   "outputs": [
    {
     "data": {
      "text/plain": [
       "9"
      ]
     },
     "execution_count": 2,
     "metadata": {},
     "output_type": "execute_result"
    }
   ],
   "source": [
    "(1+2)*3"
   ]
  },
  {
   "cell_type": "code",
   "execution_count": 16,
   "id": "f1285973-c216-493a-a841-6ca316a60082",
   "metadata": {},
   "outputs": [],
   "source": [
    "lst_a = [ 1, 2,3,4,5]\n",
    "lst_b = [ 1, 2,4,5]"
   ]
  },
  {
   "cell_type": "code",
   "execution_count": 10,
   "id": "c702f360-5db8-45af-8564-db90e2869830",
   "metadata": {},
   "outputs": [
    {
     "data": {
      "text/plain": [
       "140255659129856"
      ]
     },
     "execution_count": 10,
     "metadata": {},
     "output_type": "execute_result"
    }
   ],
   "source": [
    "id(lst_a)\n"
   ]
  },
  {
   "cell_type": "code",
   "execution_count": 11,
   "id": "c6864ed9-990e-4dfb-8f44-65c11400d461",
   "metadata": {},
   "outputs": [
    {
     "data": {
      "text/plain": [
       "140255659129856"
      ]
     },
     "execution_count": 11,
     "metadata": {},
     "output_type": "execute_result"
    }
   ],
   "source": [
    "id(lst_b)"
   ]
  },
  {
   "cell_type": "code",
   "execution_count": 12,
   "id": "2be14c49-1b29-4043-a34c-afe4bb4ddd47",
   "metadata": {},
   "outputs": [
    {
     "data": {
      "text/plain": [
       "True"
      ]
     },
     "execution_count": 12,
     "metadata": {},
     "output_type": "execute_result"
    }
   ],
   "source": [
    "lst_a is lst_b"
   ]
  },
  {
   "cell_type": "code",
   "execution_count": 17,
   "id": "f8420a53-e74e-4f16-8709-8b37572992c9",
   "metadata": {},
   "outputs": [
    {
     "data": {
      "text/plain": [
       "False"
      ]
     },
     "execution_count": 17,
     "metadata": {},
     "output_type": "execute_result"
    }
   ],
   "source": [
    "lst_a == lst_b"
   ]
  },
  {
   "cell_type": "markdown",
   "id": "ea188a9c-7728-462a-8484-433476e84282",
   "metadata": {},
   "source": [
    "|opration | meaning|\n",
    "|:-:|:-:|\n",
    "| **<** | |less than|"
   ]
  },
  {
   "cell_type": "code",
   "execution_count": 19,
   "id": "b5d8c70a-72b5-417e-acc6-6359c6d95387",
   "metadata": {},
   "outputs": [],
   "source": [
    "aman_asati = 5"
   ]
  },
  {
   "cell_type": "code",
   "execution_count": 20,
   "id": "d7eac05b-5741-44ab-a56a-d53145bb4396",
   "metadata": {},
   "outputs": [
    {
     "data": {
      "text/plain": [
       "'0b101101'"
      ]
     },
     "execution_count": 20,
     "metadata": {},
     "output_type": "execute_result"
    }
   ],
   "source": [
    "age = 45\n",
    "bin(age)"
   ]
  },
  {
   "cell_type": "code",
   "execution_count": 21,
   "id": "1cb55712-171d-44ea-9674-a4e0294ef54c",
   "metadata": {},
   "outputs": [
    {
     "data": {
      "text/plain": [
       "-46"
      ]
     },
     "execution_count": 21,
     "metadata": {},
     "output_type": "execute_result"
    }
   ],
   "source": [
    "~age"
   ]
  },
  {
   "cell_type": "code",
   "execution_count": 24,
   "id": "5c96e166-2c3e-4b98-9e93-b6eacbb838c6",
   "metadata": {},
   "outputs": [
    {
     "data": {
      "text/plain": [
       "90"
      ]
     },
     "execution_count": 24,
     "metadata": {},
     "output_type": "execute_result"
    }
   ],
   "source": [
    "age  << 1"
   ]
  },
  {
   "cell_type": "code",
   "execution_count": 25,
   "id": "c32415f7-bbb7-487f-8011-c97149ef0b69",
   "metadata": {},
   "outputs": [
    {
     "data": {
      "text/plain": [
       "22"
      ]
     },
     "execution_count": 25,
     "metadata": {},
     "output_type": "execute_result"
    }
   ],
   "source": [
    "age >> 1"
   ]
  },
  {
   "cell_type": "code",
   "execution_count": 26,
   "id": "4b2baf83-85d3-49a5-bbcd-bb0a861b6dc5",
   "metadata": {},
   "outputs": [],
   "source": [
    "str =\"ram\""
   ]
  },
  {
   "cell_type": "code",
   "execution_count": 27,
   "id": "8935d16e-2035-4cd4-8f09-fc30d6cb014d",
   "metadata": {},
   "outputs": [
    {
     "data": {
      "text/plain": [
       "['__add__',\n",
       " '__class__',\n",
       " '__contains__',\n",
       " '__delattr__',\n",
       " '__dir__',\n",
       " '__doc__',\n",
       " '__eq__',\n",
       " '__format__',\n",
       " '__ge__',\n",
       " '__getattribute__',\n",
       " '__getitem__',\n",
       " '__getnewargs__',\n",
       " '__gt__',\n",
       " '__hash__',\n",
       " '__init__',\n",
       " '__init_subclass__',\n",
       " '__iter__',\n",
       " '__le__',\n",
       " '__len__',\n",
       " '__lt__',\n",
       " '__mod__',\n",
       " '__mul__',\n",
       " '__ne__',\n",
       " '__new__',\n",
       " '__reduce__',\n",
       " '__reduce_ex__',\n",
       " '__repr__',\n",
       " '__rmod__',\n",
       " '__rmul__',\n",
       " '__setattr__',\n",
       " '__sizeof__',\n",
       " '__str__',\n",
       " '__subclasshook__',\n",
       " 'capitalize',\n",
       " 'casefold',\n",
       " 'center',\n",
       " 'count',\n",
       " 'encode',\n",
       " 'endswith',\n",
       " 'expandtabs',\n",
       " 'find',\n",
       " 'format',\n",
       " 'format_map',\n",
       " 'index',\n",
       " 'isalnum',\n",
       " 'isalpha',\n",
       " 'isascii',\n",
       " 'isdecimal',\n",
       " 'isdigit',\n",
       " 'isidentifier',\n",
       " 'islower',\n",
       " 'isnumeric',\n",
       " 'isprintable',\n",
       " 'isspace',\n",
       " 'istitle',\n",
       " 'isupper',\n",
       " 'join',\n",
       " 'ljust',\n",
       " 'lower',\n",
       " 'lstrip',\n",
       " 'maketrans',\n",
       " 'partition',\n",
       " 'removeprefix',\n",
       " 'removesuffix',\n",
       " 'replace',\n",
       " 'rfind',\n",
       " 'rindex',\n",
       " 'rjust',\n",
       " 'rpartition',\n",
       " 'rsplit',\n",
       " 'rstrip',\n",
       " 'split',\n",
       " 'splitlines',\n",
       " 'startswith',\n",
       " 'strip',\n",
       " 'swapcase',\n",
       " 'title',\n",
       " 'translate',\n",
       " 'upper',\n",
       " 'zfill']"
      ]
     },
     "execution_count": 27,
     "metadata": {},
     "output_type": "execute_result"
    }
   ],
   "source": [
    "dir(str)\n"
   ]
  },
  {
   "cell_type": "code",
   "execution_count": 28,
   "id": "bc20a996-bcb6-45e2-b7a0-0a769beb61d3",
   "metadata": {},
   "outputs": [],
   "source": [
    "# slice opretion\n",
    "str = \" ram is very good boy\""
   ]
  },
  {
   "cell_type": "code",
   "execution_count": 29,
   "id": "abadd3a6-266b-4126-b391-535e687ae9e2",
   "metadata": {},
   "outputs": [
    {
     "data": {
      "text/plain": [
       "' is very good boy'"
      ]
     },
     "execution_count": 29,
     "metadata": {},
     "output_type": "execute_result"
    }
   ],
   "source": [
    "str[4:]"
   ]
  },
  {
   "cell_type": "code",
   "execution_count": 30,
   "id": "aefb1628-2d17-4a3b-90fe-99b3adf28bea",
   "metadata": {},
   "outputs": [
    {
     "data": {
      "text/plain": [
       "'is'"
      ]
     },
     "execution_count": 30,
     "metadata": {},
     "output_type": "execute_result"
    }
   ],
   "source": [
    "str[5:7]"
   ]
  },
  {
   "cell_type": "code",
   "execution_count": 31,
   "id": "ef4a5b26-af97-4002-a599-d9b018eefe56",
   "metadata": {},
   "outputs": [
    {
     "data": {
      "text/plain": [
       "'d boy'"
      ]
     },
     "execution_count": 31,
     "metadata": {},
     "output_type": "execute_result"
    }
   ],
   "source": [
    "str[-5:]"
   ]
  },
  {
   "cell_type": "code",
   "execution_count": 33,
   "id": "b805af71-3465-4636-8978-80fc85b69102",
   "metadata": {},
   "outputs": [
    {
     "data": {
      "text/plain": [
       "''"
      ]
     },
     "execution_count": 33,
     "metadata": {},
     "output_type": "execute_result"
    }
   ],
   "source": [
    "str[-3:6]"
   ]
  },
  {
   "cell_type": "code",
   "execution_count": 34,
   "id": "5da66865-6f3f-4b9a-88f9-fd99b6a6b578",
   "metadata": {},
   "outputs": [
    {
     "data": {
      "text/plain": [
       "' ra'"
      ]
     },
     "execution_count": 34,
     "metadata": {},
     "output_type": "execute_result"
    }
   ],
   "source": [
    "str[:3]"
   ]
  },
  {
   "cell_type": "code",
   "execution_count": 35,
   "id": "7c8e6abb-7562-409e-9427-1654a885e710",
   "metadata": {},
   "outputs": [
    {
     "data": {
      "text/plain": [
       "' ram is very goo'"
      ]
     },
     "execution_count": 35,
     "metadata": {},
     "output_type": "execute_result"
    }
   ],
   "source": [
    "str[:-5]"
   ]
  },
  {
   "cell_type": "code",
   "execution_count": 36,
   "id": "c9653e0f-7707-49a1-ac9b-61bec71d6164",
   "metadata": {},
   "outputs": [
    {
     "data": {
      "text/plain": [
       "' ram is very good boy'"
      ]
     },
     "execution_count": 36,
     "metadata": {},
     "output_type": "execute_result"
    }
   ],
   "source": [
    "str[:]"
   ]
  },
  {
   "cell_type": "code",
   "execution_count": 40,
   "id": "b922e502-bc15-4975-9e56-de362d56b071",
   "metadata": {},
   "outputs": [
    {
     "data": {
      "text/plain": [
       "'a'"
      ]
     },
     "execution_count": 40,
     "metadata": {},
     "output_type": "execute_result"
    }
   ],
   "source": [
    "name = \"aman\"\n",
    "name[-2:3]"
   ]
  },
  {
   "cell_type": "code",
   "execution_count": 41,
   "id": "84e0d3fa-2f35-4a49-97fe-ae903ce8023f",
   "metadata": {},
   "outputs": [
    {
     "data": {
      "text/plain": [
       "'yob doog yrev si mar '"
      ]
     },
     "execution_count": 41,
     "metadata": {},
     "output_type": "execute_result"
    }
   ],
   "source": [
    "str[::-1]"
   ]
  },
  {
   "cell_type": "code",
   "execution_count": 42,
   "id": "fc3aa486-f8b8-45b0-b11b-7bf825305e37",
   "metadata": {},
   "outputs": [
    {
     "data": {
      "text/plain": [
       "' mse ob'"
      ]
     },
     "execution_count": 42,
     "metadata": {},
     "output_type": "execute_result"
    }
   ],
   "source": [
    "str[::3]"
   ]
  },
  {
   "cell_type": "code",
   "execution_count": 47,
   "id": "ca115916-105f-4e4c-b66b-3c7291e7a606",
   "metadata": {},
   "outputs": [
    {
     "data": {
      "text/plain": [
       "' s b'"
      ]
     },
     "execution_count": 47,
     "metadata": {},
     "output_type": "execute_result"
    }
   ],
   "source": [
    "str[::6]"
   ]
  },
  {
   "cell_type": "code",
   "execution_count": 1,
   "id": "09b1e8f2-cc79-4fa2-8ebe-af43819c4df7",
   "metadata": {},
   "outputs": [],
   "source": [
    "name = \"jai shre ram\""
   ]
  },
  {
   "cell_type": "code",
   "execution_count": 9,
   "id": "ab6dfc34-2a34-49c6-ac1f-a8fb7dd256ab",
   "metadata": {},
   "outputs": [
    {
     "data": {
      "text/plain": [
       "' erhs'"
      ]
     },
     "execution_count": 9,
     "metadata": {},
     "output_type": "execute_result"
    }
   ],
   "source": [
    "name[8:3:-1]"
   ]
  },
  {
   "cell_type": "code",
   "execution_count": 3,
   "id": "779f601d-2745-4f5f-bf2c-714c0d2a9b30",
   "metadata": {},
   "outputs": [
    {
     "data": {
      "text/plain": [
       "'hs'"
      ]
     },
     "execution_count": 3,
     "metadata": {},
     "output_type": "execute_result"
    }
   ],
   "source": [
    "name[5:3:-1]"
   ]
  },
  {
   "cell_type": "code",
   "execution_count": 10,
   "id": "0a5edf5f-b30f-40d6-bace-093136a4f5cd",
   "metadata": {},
   "outputs": [
    {
     "data": {
      "text/plain": [
       "'jai shre ramjai shre ramjai shre ramjai shre ramjai shre ram'"
      ]
     },
     "execution_count": 10,
     "metadata": {},
     "output_type": "execute_result"
    }
   ],
   "source": [
    "name * 5"
   ]
  },
  {
   "cell_type": "code",
   "execution_count": 12,
   "id": "f21b3c91-daac-466f-ae6f-c8cfe235969f",
   "metadata": {},
   "outputs": [
    {
     "data": {
      "text/plain": [
       "'jai shre ramon namah shivay'"
      ]
     },
     "execution_count": 12,
     "metadata": {},
     "output_type": "execute_result"
    }
   ],
   "source": [
    "name + \"on namah shivay\""
   ]
  },
  {
   "cell_type": "code",
   "execution_count": 13,
   "id": "5cc282d9-30b6-487f-9189-509620314f73",
   "metadata": {},
   "outputs": [
    {
     "data": {
      "text/plain": [
       "12"
      ]
     },
     "execution_count": 13,
     "metadata": {},
     "output_type": "execute_result"
    }
   ],
   "source": [
    "len(name)"
   ]
  },
  {
   "cell_type": "code",
   "execution_count": 14,
   "id": "99c996a9-6c1d-4fb7-8728-4550bb9a22f9",
   "metadata": {},
   "outputs": [
    {
     "data": {
      "text/plain": [
       "2"
      ]
     },
     "execution_count": 14,
     "metadata": {},
     "output_type": "execute_result"
    }
   ],
   "source": [
    "name.find(\"i\")"
   ]
  },
  {
   "cell_type": "code",
   "execution_count": 15,
   "id": "ffeee2bd-a168-447e-a021-7af7088ac1ac",
   "metadata": {},
   "outputs": [
    {
     "data": {
      "text/plain": [
       "-1"
      ]
     },
     "execution_count": 15,
     "metadata": {},
     "output_type": "execute_result"
    }
   ],
   "source": [
    "name.find(\"z\")"
   ]
  },
  {
   "cell_type": "markdown",
   "id": "537bad61-9c18-42d4-8e99-a7f5e66f2aef",
   "metadata": {},
   "source": [
    "## count funtion"
   ]
  },
  {
   "cell_type": "code",
   "execution_count": 16,
   "id": "27a9efa2-4f8b-41d4-a207-bc4238d82684",
   "metadata": {},
   "outputs": [
    {
     "data": {
      "text/plain": [
       "1"
      ]
     },
     "execution_count": 16,
     "metadata": {},
     "output_type": "execute_result"
    }
   ],
   "source": [
    "name.count(\"i\")"
   ]
  },
  {
   "cell_type": "markdown",
   "id": "09713005-3c52-42b2-9d3d-648ca5320c91",
   "metadata": {},
   "source": [
    "# String Split funtion"
   ]
  },
  {
   "cell_type": "code",
   "execution_count": 17,
   "id": "dc380734-e34f-4709-b9d4-b90540910aa9",
   "metadata": {},
   "outputs": [
    {
     "data": {
      "text/plain": [
       "['jai', 'shre', 'ram']"
      ]
     },
     "execution_count": 17,
     "metadata": {},
     "output_type": "execute_result"
    }
   ],
   "source": [
    "name.split(' ')"
   ]
  },
  {
   "cell_type": "code",
   "execution_count": 21,
   "id": "397faf48-cb63-48e3-870c-4f3652b04bf5",
   "metadata": {},
   "outputs": [
    {
     "data": {
      "text/plain": [
       "['jai sh', 'e ', 'am']"
      ]
     },
     "execution_count": 21,
     "metadata": {},
     "output_type": "execute_result"
    }
   ],
   "source": [
    "name.split(\"r\")"
   ]
  },
  {
   "cell_type": "code",
   "execution_count": 22,
   "id": "685b6b75-f78b-4114-b0f9-641c62b97964",
   "metadata": {},
   "outputs": [],
   "source": [
    "## string upper and lowwer case"
   ]
  },
  {
   "cell_type": "code",
   "execution_count": 24,
   "id": "e4c670b8-1f0f-4e8b-86bf-6dfd9983678c",
   "metadata": {},
   "outputs": [
    {
     "data": {
      "text/plain": [
       "'JAI SHRE RAM'"
      ]
     },
     "execution_count": 24,
     "metadata": {},
     "output_type": "execute_result"
    }
   ],
   "source": [
    "name.upper()"
   ]
  },
  {
   "cell_type": "code",
   "execution_count": 26,
   "id": "1045618c-0000-4f7b-84fa-a6a172b06077",
   "metadata": {},
   "outputs": [
    {
     "data": {
      "text/plain": [
       "'jai shre ram'"
      ]
     },
     "execution_count": 26,
     "metadata": {},
     "output_type": "execute_result"
    }
   ],
   "source": [
    "name.lower()"
   ]
  },
  {
   "cell_type": "code",
   "execution_count": 27,
   "id": "09c43dd8-e6af-47fd-93a4-3faab2065cf6",
   "metadata": {},
   "outputs": [
    {
     "data": {
      "text/plain": [
       "'JAI SHRE RAM'"
      ]
     },
     "execution_count": 27,
     "metadata": {},
     "output_type": "execute_result"
    }
   ],
   "source": [
    "name.swapcase()"
   ]
  },
  {
   "cell_type": "code",
   "execution_count": 29,
   "id": "62c34357-3c06-463e-92e9-164fc8d1b471",
   "metadata": {},
   "outputs": [
    {
     "data": {
      "text/plain": [
       "'Jai Shre Ram'"
      ]
     },
     "execution_count": 29,
     "metadata": {},
     "output_type": "execute_result"
    }
   ],
   "source": [
    "name.title()"
   ]
  },
  {
   "cell_type": "code",
   "execution_count": 30,
   "id": "44fe7e04-099d-48b2-9cdc-704c9a98e847",
   "metadata": {},
   "outputs": [],
   "source": [
    "str = \" pw data science master\"\n"
   ]
  },
  {
   "cell_type": "code",
   "execution_count": 37,
   "id": "19de2c66-2bfb-4511-a0d2-c61a1f32d888",
   "metadata": {},
   "outputs": [
    {
     "data": {
      "text/plain": [
       "'nce '"
      ]
     },
     "execution_count": 37,
     "metadata": {},
     "output_type": "execute_result"
    }
   ],
   "source": [
    "str[-10:17]"
   ]
  },
  {
   "cell_type": "code",
   "execution_count": 38,
   "id": "850b88b0-04b2-4993-b7ad-b8eaf30066a9",
   "metadata": {},
   "outputs": [
    {
     "data": {
      "text/plain": [
       "'-0b100'"
      ]
     },
     "execution_count": 38,
     "metadata": {},
     "output_type": "execute_result"
    }
   ],
   "source": [
    "bin(-4)"
   ]
  },
  {
   "cell_type": "code",
   "execution_count": 2,
   "id": "633107b2-e004-495b-a1e0-02973afb7cf6",
   "metadata": {},
   "outputs": [
    {
     "data": {
      "text/plain": [
       "9"
      ]
     },
     "execution_count": 2,
     "metadata": {},
     "output_type": "execute_result"
    }
   ],
   "source": [
    "name.find(\"ram\")"
   ]
  },
  {
   "cell_type": "code",
   "execution_count": null,
   "id": "0bc08d4c-4002-481a-a780-8cf304cb4696",
   "metadata": {},
   "outputs": [],
   "source": []
  },
  {
   "cell_type": "code",
   "execution_count": null,
   "id": "391dadce-2aba-4a50-843a-7e19831ddc0c",
   "metadata": {},
   "outputs": [],
   "source": []
  },
  {
   "cell_type": "code",
   "execution_count": null,
   "id": "ce461d5c-44fe-4a35-bb95-f2e0bf752b15",
   "metadata": {},
   "outputs": [],
   "source": []
  },
  {
   "cell_type": "code",
   "execution_count": null,
   "id": "209bea22-4493-4cdf-a7ec-b33cf4d65ee9",
   "metadata": {},
   "outputs": [],
   "source": []
  }
 ],
 "metadata": {
  "kernelspec": {
   "display_name": "Python 3 (ipykernel)",
   "language": "python",
   "name": "python3"
  },
  "language_info": {
   "codemirror_mode": {
    "name": "ipython",
    "version": 3
   },
   "file_extension": ".py",
   "mimetype": "text/x-python",
   "name": "python",
   "nbconvert_exporter": "python",
   "pygments_lexer": "ipython3",
   "version": "3.10.8"
  }
 },
 "nbformat": 4,
 "nbformat_minor": 5
}
